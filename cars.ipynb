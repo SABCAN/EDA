{
 "cells": [
  {
   "cell_type": "markdown",
   "id": "0316848a-d29b-42eb-afcb-652a7ab511b3",
   "metadata": {},
   "source": [
    "## Data Prepration"
   ]
  },
  {
   "cell_type": "code",
   "execution_count": 134,
   "id": "e81bd6c5-ddc1-42ef-b7dc-147b873b0336",
   "metadata": {},
   "outputs": [],
   "source": [
    "import pandas as pd \n",
    "import numpy as np\n",
    "import seaborn as sns\n",
    "import matplotlib.pyplot as plt"
   ]
  },
  {
   "cell_type": "code",
   "execution_count": 135,
   "id": "95f468b2-e185-43bb-b664-d6d65a7e4f38",
   "metadata": {},
   "outputs": [
    {
     "data": {
      "text/html": [
       "<div>\n",
       "<style scoped>\n",
       "    .dataframe tbody tr th:only-of-type {\n",
       "        vertical-align: middle;\n",
       "    }\n",
       "\n",
       "    .dataframe tbody tr th {\n",
       "        vertical-align: top;\n",
       "    }\n",
       "\n",
       "    .dataframe thead th {\n",
       "        text-align: right;\n",
       "    }\n",
       "</style>\n",
       "<table border=\"1\" class=\"dataframe\">\n",
       "  <thead>\n",
       "    <tr style=\"text-align: right;\">\n",
       "      <th></th>\n",
       "      <th>Make</th>\n",
       "      <th>Model</th>\n",
       "      <th>Year</th>\n",
       "      <th>Engine Fuel Type</th>\n",
       "      <th>Engine HP</th>\n",
       "      <th>Engine Cylinders</th>\n",
       "      <th>Transmission Type</th>\n",
       "      <th>Driven_Wheels</th>\n",
       "      <th>Number of Doors</th>\n",
       "      <th>Market Category</th>\n",
       "      <th>Vehicle Size</th>\n",
       "      <th>Vehicle Style</th>\n",
       "      <th>highway MPG</th>\n",
       "      <th>city mpg</th>\n",
       "      <th>Popularity</th>\n",
       "      <th>MSRP</th>\n",
       "    </tr>\n",
       "  </thead>\n",
       "  <tbody>\n",
       "    <tr>\n",
       "      <th>0</th>\n",
       "      <td>BMW</td>\n",
       "      <td>1 Series M</td>\n",
       "      <td>2011</td>\n",
       "      <td>premium unleaded (required)</td>\n",
       "      <td>335.0</td>\n",
       "      <td>6.0</td>\n",
       "      <td>MANUAL</td>\n",
       "      <td>rear wheel drive</td>\n",
       "      <td>2.0</td>\n",
       "      <td>Factory Tuner,Luxury,High-Performance</td>\n",
       "      <td>Compact</td>\n",
       "      <td>Coupe</td>\n",
       "      <td>26</td>\n",
       "      <td>19</td>\n",
       "      <td>3916</td>\n",
       "      <td>46135</td>\n",
       "    </tr>\n",
       "    <tr>\n",
       "      <th>1</th>\n",
       "      <td>BMW</td>\n",
       "      <td>1 Series</td>\n",
       "      <td>2011</td>\n",
       "      <td>premium unleaded (required)</td>\n",
       "      <td>300.0</td>\n",
       "      <td>6.0</td>\n",
       "      <td>MANUAL</td>\n",
       "      <td>rear wheel drive</td>\n",
       "      <td>2.0</td>\n",
       "      <td>Luxury,Performance</td>\n",
       "      <td>Compact</td>\n",
       "      <td>Convertible</td>\n",
       "      <td>28</td>\n",
       "      <td>19</td>\n",
       "      <td>3916</td>\n",
       "      <td>40650</td>\n",
       "    </tr>\n",
       "    <tr>\n",
       "      <th>2</th>\n",
       "      <td>BMW</td>\n",
       "      <td>1 Series</td>\n",
       "      <td>2011</td>\n",
       "      <td>premium unleaded (required)</td>\n",
       "      <td>300.0</td>\n",
       "      <td>6.0</td>\n",
       "      <td>MANUAL</td>\n",
       "      <td>rear wheel drive</td>\n",
       "      <td>2.0</td>\n",
       "      <td>Luxury,High-Performance</td>\n",
       "      <td>Compact</td>\n",
       "      <td>Coupe</td>\n",
       "      <td>28</td>\n",
       "      <td>20</td>\n",
       "      <td>3916</td>\n",
       "      <td>36350</td>\n",
       "    </tr>\n",
       "    <tr>\n",
       "      <th>3</th>\n",
       "      <td>BMW</td>\n",
       "      <td>1 Series</td>\n",
       "      <td>2011</td>\n",
       "      <td>premium unleaded (required)</td>\n",
       "      <td>230.0</td>\n",
       "      <td>6.0</td>\n",
       "      <td>MANUAL</td>\n",
       "      <td>rear wheel drive</td>\n",
       "      <td>2.0</td>\n",
       "      <td>Luxury,Performance</td>\n",
       "      <td>Compact</td>\n",
       "      <td>Coupe</td>\n",
       "      <td>28</td>\n",
       "      <td>18</td>\n",
       "      <td>3916</td>\n",
       "      <td>29450</td>\n",
       "    </tr>\n",
       "    <tr>\n",
       "      <th>4</th>\n",
       "      <td>BMW</td>\n",
       "      <td>1 Series</td>\n",
       "      <td>2011</td>\n",
       "      <td>premium unleaded (required)</td>\n",
       "      <td>230.0</td>\n",
       "      <td>6.0</td>\n",
       "      <td>MANUAL</td>\n",
       "      <td>rear wheel drive</td>\n",
       "      <td>2.0</td>\n",
       "      <td>Luxury</td>\n",
       "      <td>Compact</td>\n",
       "      <td>Convertible</td>\n",
       "      <td>28</td>\n",
       "      <td>18</td>\n",
       "      <td>3916</td>\n",
       "      <td>34500</td>\n",
       "    </tr>\n",
       "  </tbody>\n",
       "</table>\n",
       "</div>"
      ],
      "text/plain": [
       "  Make       Model  Year             Engine Fuel Type  Engine HP  \\\n",
       "0  BMW  1 Series M  2011  premium unleaded (required)      335.0   \n",
       "1  BMW    1 Series  2011  premium unleaded (required)      300.0   \n",
       "2  BMW    1 Series  2011  premium unleaded (required)      300.0   \n",
       "3  BMW    1 Series  2011  premium unleaded (required)      230.0   \n",
       "4  BMW    1 Series  2011  premium unleaded (required)      230.0   \n",
       "\n",
       "   Engine Cylinders Transmission Type     Driven_Wheels  Number of Doors  \\\n",
       "0               6.0            MANUAL  rear wheel drive              2.0   \n",
       "1               6.0            MANUAL  rear wheel drive              2.0   \n",
       "2               6.0            MANUAL  rear wheel drive              2.0   \n",
       "3               6.0            MANUAL  rear wheel drive              2.0   \n",
       "4               6.0            MANUAL  rear wheel drive              2.0   \n",
       "\n",
       "                         Market Category Vehicle Size Vehicle Style  \\\n",
       "0  Factory Tuner,Luxury,High-Performance      Compact         Coupe   \n",
       "1                     Luxury,Performance      Compact   Convertible   \n",
       "2                Luxury,High-Performance      Compact         Coupe   \n",
       "3                     Luxury,Performance      Compact         Coupe   \n",
       "4                                 Luxury      Compact   Convertible   \n",
       "\n",
       "   highway MPG  city mpg  Popularity   MSRP  \n",
       "0           26        19        3916  46135  \n",
       "1           28        19        3916  40650  \n",
       "2           28        20        3916  36350  \n",
       "3           28        18        3916  29450  \n",
       "4           28        18        3916  34500  "
      ]
     },
     "execution_count": 135,
     "metadata": {},
     "output_type": "execute_result"
    }
   ],
   "source": [
    "df = pd.read_csv('data.csv')\n",
    "df.head()"
   ]
  },
  {
   "cell_type": "code",
   "execution_count": 136,
   "id": "7c8a0d77-50b5-4c1a-87dc-87bb1fec62ec",
   "metadata": {},
   "outputs": [
    {
     "name": "stdout",
     "output_type": "stream",
     "text": [
      "Dimensi pada DataFrame : (11914, 16)\n"
     ]
    }
   ],
   "source": [
    "print(f\"Dimensi pada DataFrame : {df.shape}\")"
   ]
  },
  {
   "cell_type": "markdown",
   "id": "93ca6d9e-09db-4277-98b2-1749af526f67",
   "metadata": {},
   "source": [
    "## Data Preprocessing"
   ]
  },
  {
   "cell_type": "code",
   "execution_count": 137,
   "id": "998e993b-28d5-42dc-91d0-e396ae53c1d1",
   "metadata": {},
   "outputs": [
    {
     "name": "stdout",
     "output_type": "stream",
     "text": [
      "<class 'pandas.core.frame.DataFrame'>\n",
      "RangeIndex: 11914 entries, 0 to 11913\n",
      "Data columns (total 16 columns):\n",
      " #   Column             Non-Null Count  Dtype  \n",
      "---  ------             --------------  -----  \n",
      " 0   Make               11914 non-null  object \n",
      " 1   Model              11914 non-null  object \n",
      " 2   Year               11914 non-null  int64  \n",
      " 3   Engine Fuel Type   11911 non-null  object \n",
      " 4   Engine HP          11845 non-null  float64\n",
      " 5   Engine Cylinders   11884 non-null  float64\n",
      " 6   Transmission Type  11914 non-null  object \n",
      " 7   Driven_Wheels      11914 non-null  object \n",
      " 8   Number of Doors    11908 non-null  float64\n",
      " 9   Market Category    8172 non-null   object \n",
      " 10  Vehicle Size       11914 non-null  object \n",
      " 11  Vehicle Style      11914 non-null  object \n",
      " 12  highway MPG        11914 non-null  int64  \n",
      " 13  city mpg           11914 non-null  int64  \n",
      " 14  Popularity         11914 non-null  int64  \n",
      " 15  MSRP               11914 non-null  int64  \n",
      "dtypes: float64(3), int64(5), object(8)\n",
      "memory usage: 1.5+ MB\n"
     ]
    }
   ],
   "source": [
    "df.info()"
   ]
  },
  {
   "cell_type": "code",
   "execution_count": 138,
   "id": "05d3558f-e0f3-4d82-bcfb-cc25d40743e8",
   "metadata": {},
   "outputs": [
    {
     "name": "stdout",
     "output_type": "stream",
     "text": [
      "Jumlah nilai unik pada setiap kolom : \n",
      "Make                   48\n",
      "Model                 915\n",
      "Year                   28\n",
      "Engine Fuel Type       10\n",
      "Engine HP             356\n",
      "Engine Cylinders        9\n",
      "Transmission Type       5\n",
      "Driven_Wheels           4\n",
      "Number of Doors         3\n",
      "Market Category        71\n",
      "Vehicle Size            3\n",
      "Vehicle Style          16\n",
      "highway MPG            59\n",
      "city mpg               69\n",
      "Popularity             48\n",
      "MSRP                 6049\n",
      "dtype: int64\n"
     ]
    }
   ],
   "source": [
    "print(f\"Jumlah nilai unik pada setiap kolom : \\n{df.nunique()}\")"
   ]
  },
  {
   "cell_type": "code",
   "execution_count": 139,
   "id": "8d2e489e-1a61-4d19-9803-cd5212f3091d",
   "metadata": {},
   "outputs": [
    {
     "name": "stdout",
     "output_type": "stream",
     "text": [
      "{'Make': array(['BMW', 'Audi', 'FIAT', 'Mercedes-Benz', 'Chrysler', 'Nissan',\n",
      "       'Volvo', 'Mazda', 'Mitsubishi', 'Ferrari', 'Alfa Romeo', 'Toyota',\n",
      "       'McLaren', 'Maybach', 'Pontiac', 'Porsche', 'Saab', 'GMC',\n",
      "       'Hyundai', 'Plymouth', 'Honda', 'Oldsmobile', 'Suzuki', 'Ford',\n",
      "       'Cadillac', 'Kia', 'Bentley', 'Chevrolet', 'Dodge', 'Lamborghini',\n",
      "       'Lincoln', 'Subaru', 'Volkswagen', 'Spyker', 'Buick', 'Acura',\n",
      "       'Rolls-Royce', 'Maserati', 'Lexus', 'Aston Martin', 'Land Rover',\n",
      "       'Lotus', 'Infiniti', 'Scion', 'Genesis', 'HUMMER', 'Tesla',\n",
      "       'Bugatti'], dtype=object)}\n",
      "{'Model': array(['1 Series M', '1 Series', '100', '124 Spider', '190-Class',\n",
      "       '2 Series', '200', '200SX', '240SX', '240', '2',\n",
      "       '3 Series Gran Turismo', '3 Series', '300-Class', '3000GT', '300',\n",
      "       '300M', '300ZX', '323', '350-Class', '350Z', '360', '370Z', '3',\n",
      "       '4 Series Gran Coupe', '4 Series', '400-Class', '420-Class',\n",
      "       '456M', '458 Italia', '4C', '4Runner', '5 Series Gran Turismo',\n",
      "       '5 Series', '500-Class', '500e', '500', '500L', '500X', '550',\n",
      "       '560-Class', '570S', '575M', '57', '599', '5',\n",
      "       '6 Series Gran Coupe', '6 Series', '600-Class', '6000',\n",
      "       '612 Scaglietti', '626', '62', '650S Coupe', '650S Spider', '6',\n",
      "       '7 Series', '718 Cayman', '740', '760', '780', '8 Series', '80',\n",
      "       '850', '86', '9-2X', '9-3 Griffin', '9-3', '9-4X', '9-5', '9-7X',\n",
      "       '9000', '900', '90', '911', '928', '929', '940', '944', '960',\n",
      "       '968', 'A3', 'A4 allroad', 'A4', 'A5', 'A6', 'A7', 'A8',\n",
      "       'Acadia Limited', 'Acadia', 'Accent', 'Acclaim',\n",
      "       'Accord Crosstour', 'Accord Hybrid', 'Accord Plug-In Hybrid',\n",
      "       'Accord', 'Achieva', 'ActiveHybrid 5', 'ActiveHybrid 7',\n",
      "       'ActiveHybrid X6', 'Aerio', 'Aerostar', 'Alero', 'Allante',\n",
      "       'allroad quattro', 'allroad', 'ALPINA B6 Gran Coupe', 'ALPINA B7',\n",
      "       'Alpina', 'Altima Hybrid', 'Altima', 'Amanti', 'AMG GT', 'Armada',\n",
      "       'Arnage', 'Aspen', 'Aspire', 'Astro Cargo', 'Astro', 'ATS Coupe',\n",
      "       'ATS-V', 'ATS', 'Aurora', 'Avalanche', 'Avalon Hybrid', 'Avalon',\n",
      "       'Avenger', 'Aventador', 'Aveo', 'Aviator', 'Axxess', 'Azera',\n",
      "       'Aztek', 'Azure T', 'Azure', 'B-Class Electric Drive',\n",
      "       'B-Series Pickup', 'B-Series Truck', 'B-Series', 'B9 Tribeca',\n",
      "       'Baja', 'Beetle Convertible', 'Beetle', 'Beretta',\n",
      "       'Black Diamond Avalanche', 'Blackwood', 'Blazer', 'Bolt EV',\n",
      "       'Bonneville', 'Borrego', 'Boxster', 'Bravada', 'Breeze',\n",
      "       'Bronco II', 'Bronco', 'Brooklands', 'Brougham', 'BRZ', 'C-Class',\n",
      "       'C-Max Hybrid', 'C30', 'C36 AMG', 'C43 AMG', 'C70', 'C8',\n",
      "       'Cabriolet', 'Cabrio', 'Cadenza', 'Caliber', 'California T',\n",
      "       'California', 'Camaro', 'Camry Hybrid', 'Camry Solara', 'Camry',\n",
      "       'Canyon', 'Caprice', 'Captiva Sport', 'Caravan', 'Carrera GT',\n",
      "       'Cascada', 'Catera', 'Cavalier', 'Cayenne', 'Cayman S', 'Cayman',\n",
      "       'CC', 'Celebrity', 'Celica', 'Century', 'Challenger', 'Charger',\n",
      "       'Chevy Van', 'Ciera', 'Cirrus', 'City Express', 'Civic CRX',\n",
      "       'Civic del Sol', 'Civic', 'C/K 1500 Series', 'C/K 2500 Series',\n",
      "       'CL-Class', 'CLA-Class', 'CL', 'Classic', 'CLK-Class', 'CLS-Class',\n",
      "       'Cobalt', 'Colorado', 'Colt', 'Concorde',\n",
      "       'Continental Flying Spur Speed', 'Continental Flying Spur',\n",
      "       'Continental GT Speed Convertible', 'Continental GT Speed',\n",
      "       'Continental GT3-R', 'Continental GT', 'Continental GTC Speed',\n",
      "       'Continental GTC', 'Continental Supersports Convertible',\n",
      "       'Continental Supersports', 'Continental', 'Contour SVT', 'Contour',\n",
      "       'Corniche', 'Corolla iM', 'Corolla', 'Corrado', 'Corsica',\n",
      "       'Corvette Stingray', 'Corvette', 'Coupe', 'CR-V', 'CR-Z',\n",
      "       'Cressida', 'Crossfire', 'Crosstour', 'Crosstrek',\n",
      "       'Crown Victoria', 'Cruze Limited', 'Cruze', 'CT 200h', 'CT6',\n",
      "       'CTS Coupe', 'CTS-V Coupe', 'CTS-V Wagon', 'CTS-V', 'CTS Wagon',\n",
      "       'CTS', 'Cube', 'Custom Cruiser', 'Cutlass Calais', 'Cutlass Ciera',\n",
      "       'Cutlass Supreme', 'Cutlass', 'CX-3', 'CX-5', 'CX-7', 'CX-9',\n",
      "       'Dakota', 'Dart', 'Dawn', 'Daytona', 'DB7', 'DB9 GT', 'DB9', 'DBS',\n",
      "       'Defender', 'DeVille', 'Diablo', 'Diamante', 'Discovery Series II',\n",
      "       'Discovery Sport', 'Discovery', 'DTS', 'Durango', 'Dynasty',\n",
      "       'E-150', 'E-250', 'E-Class', 'e-Golf', 'E-Series Van',\n",
      "       'E-Series Wagon', 'E55 AMG', 'ECHO', 'Eclipse Spyder', 'Eclipse',\n",
      "       'Edge', 'Eighty-Eight Royale', 'Eighty-Eight', 'Elantra Coupe',\n",
      "       'Elantra GT', 'Elantra Touring', 'Elantra', 'Eldorado', 'Electra',\n",
      "       'Element', 'Elise', 'Enclave', 'Encore', 'Endeavor', 'Entourage',\n",
      "       'Envision', 'Envoy XL', 'Envoy XUV', 'Envoy', 'Enzo', 'Eos',\n",
      "       'Equator', 'Equinox', 'Equus', 'ES 250', 'ES 300h', 'ES 300',\n",
      "       'ES 330', 'ES 350', 'Escalade ESV', 'Escalade EXT',\n",
      "       'Escalade Hybrid', 'Escalade', 'Escape Hybrid', 'Escape', 'Escort',\n",
      "       'Esprit', 'Estate Wagon', 'Esteem', 'EuroVan', 'Evora 400',\n",
      "       'Evora', 'EX35', 'Excel', 'Exige', 'EX', 'Expedition',\n",
      "       'Explorer Sport Trac', 'Explorer Sport', 'Explorer', 'Expo',\n",
      "       'Express Cargo', 'Express', 'F-150 Heritage',\n",
      "       'F-150 SVT Lightning', 'F-150', 'F-250', 'F12 Berlinetta', 'F430',\n",
      "       'Festiva', 'FF', 'Fiesta', 'Firebird', 'Fit EV', 'Fit',\n",
      "       'Five Hundred', 'FJ Cruiser', 'Fleetwood', 'Flex', 'Flying Spur',\n",
      "       'Focus RS', 'Focus ST', 'Focus', 'Forenza', 'Forester', 'Forte',\n",
      "       'Fox', 'FR-S', 'Freelander', 'Freestar', 'Freestyle', 'Frontier',\n",
      "       'Fusion Hybrid', 'Fusion', 'FX35', 'FX45', 'FX50', 'FX', 'G-Class',\n",
      "       'G Convertible', 'G Coupe', 'G Sedan', 'G20', 'G35',\n",
      "       'G37 Convertible', 'G37 Coupe', 'G37 Sedan', 'G37', 'G3', 'G5',\n",
      "       'G6', 'G80', 'G8', 'Galant', 'Gallardo', 'Genesis Coupe',\n",
      "       'Genesis', 'Ghibli', 'Ghost Series II', 'Ghost', 'GL-Class',\n",
      "       'GLA-Class', 'GLC-Class', 'GLE-Class Coupe', 'GLE-Class', 'GLI',\n",
      "       'GLK-Class', 'GLS-Class', 'Golf Alltrack', 'Golf GTI', 'Golf R',\n",
      "       'Golf SportWagen', 'Golf', 'Grand Am', 'Grand Caravan',\n",
      "       'Grand Prix', 'Grand Vitara', 'Grand Voyager', 'GranSport',\n",
      "       'GranTurismo Convertible', 'GranTurismo', 'GS 200t', 'GS 300',\n",
      "       'GS 350', 'GS 400', 'GS 430', 'GS 450h', 'GS 460', 'GS F', 'GT-R',\n",
      "       'GT', 'GTI', 'GTO', 'GX 460', 'GX 470', 'H3', 'H3T', 'HHR',\n",
      "       'Highlander Hybrid', 'Highlander', 'Horizon', 'HR-V', 'HS 250h',\n",
      "       'Huracan', 'i-MiEV', 'I30', 'I35', 'i3', 'iA', 'ILX Hybrid', 'ILX',\n",
      "       'Impala Limited', 'Impala', 'Imperial', 'Impreza WRX', 'Impreza',\n",
      "       'iM', 'Insight', 'Integra', 'Intrepid', 'Intrigue', 'iQ',\n",
      "       'IS 200t', 'IS 250 C', 'IS 250', 'IS 300', 'IS 350 C', 'IS 350',\n",
      "       'IS F', 'J30', 'Jetta GLI', 'Jetta Hybrid', 'Jetta SportWagen',\n",
      "       'Jetta', 'Jimmy', 'Journey', 'Juke', 'Justy', 'JX', 'K900',\n",
      "       'Kizashi', 'LaCrosse', 'Lancer Evolution', 'Lancer Sportback',\n",
      "       'Lancer', 'Land Cruiser', 'Landaulet', 'Laser', 'Le Baron',\n",
      "       'Le Mans', 'Leaf', 'Legacy', 'Legend', 'LeSabre', 'Levante', 'LFA',\n",
      "       'LHS', 'Loyale', 'LR2', 'LR3', 'LR4', 'LS 400', 'LS 430', 'LS 460',\n",
      "       'LS 600h L', 'LS', 'LSS', 'LTD Crown Victoria', 'Lucerne',\n",
      "       'Lumina Minivan', 'Lumina', 'LX 450', 'LX 470', 'LX 570',\n",
      "       'M-Class', 'M2', 'M30', 'M35', 'M37', 'M3', 'M4 GTS', 'M45', 'M4',\n",
      "       'M56', 'M5', 'M6 Gran Coupe', 'M6', 'Macan', 'Magnum',\n",
      "       'Malibu Classic', 'Malibu Hybrid', 'Malibu Limited', 'Malibu Maxx',\n",
      "       'Malibu', 'Mark LT', 'Mark VIII', 'Mark VII', 'Matrix', 'Maxima',\n",
      "       'Maybach', 'Mazdaspeed 3', 'Mazdaspeed 6', 'Mazdaspeed MX-5 Miata',\n",
      "       'Mazdaspeed Protege', 'M', 'MDX', 'Metris', 'Metro',\n",
      "       'Mighty Max Pickup', 'Millenia', 'Mirage G4', 'Mirage', 'MKC',\n",
      "       'MKS', 'MKT', 'MKX', 'MKZ Hybrid', 'MKZ', 'ML55 AMG', 'Model S',\n",
      "       'Monaco', 'Montana SV6', 'Montana', 'Monte Carlo', 'Montero Sport',\n",
      "       'Montero', 'MP4-12C', 'MPV', 'MR2 Spyder', 'MR2', 'Mulsanne',\n",
      "       'Murano CrossCabriolet', 'Murano', 'Murcielago',\n",
      "       'Mustang SVT Cobra', 'Mustang', 'MX-3', 'MX-5 Miata', 'MX-6',\n",
      "       'Navajo', 'Navigator', 'Neon', 'New Beetle', 'New Yorker',\n",
      "       'Ninety-Eight', 'Nitro', 'NSX', 'NV200', 'NX 200t', 'NX 300h',\n",
      "       'NX', 'Odyssey', 'Omni', 'Optima Hybrid', 'Optima', 'Outback',\n",
      "       'Outlander Sport', 'Outlander', 'Pacifica', 'Panamera',\n",
      "       'Park Avenue', 'Park Ward', 'Paseo', 'Passat', 'Passport',\n",
      "       'Pathfinder', 'Phaeton', 'Phantom Coupe', 'Phantom Drophead Coupe',\n",
      "       'Phantom', 'Pickup', 'Pilot', 'Precis', 'Prelude', 'Previa',\n",
      "       'Prius c', 'Prius Prime', 'Prius v', 'Prius', 'Prizm', 'Probe',\n",
      "       'Protege5', 'Protege', 'Prowler', 'PT Cruiser', 'Pulsar', 'Q3',\n",
      "       'Q40', 'Q45', 'Q50', 'Q5', 'Q60 Convertible', 'Q60 Coupe', 'Q70',\n",
      "       'Q7', 'Quattroporte', 'Quest', 'QX4', 'QX50', 'QX56', 'QX60',\n",
      "       'QX70', 'QX80', 'QX', 'R-Class', 'R32', 'R8', 'Rabbit', 'Raider',\n",
      "       'Rainier', 'Rally Wagon', 'RAM 150', 'RAM 250', 'Ram 50 Pickup',\n",
      "       'Ram Cargo', 'Ram Pickup 1500', 'Ram Van', 'Ram Wagon',\n",
      "       'Ramcharger', 'Range Rover Evoque', 'Range Rover Sport',\n",
      "       'Range Rover', 'Ranger', 'Rapide S', 'Rapide', 'RAV4 EV',\n",
      "       'RAV4 Hybrid', 'RAV4', 'RC 200t', 'RC 300', 'RC 350', 'RC F',\n",
      "       'RDX', 'Reatta', 'Regal', 'Regency', 'Rendezvous', 'Reno',\n",
      "       'Reventon', 'Ridgeline', 'Rio', 'Riviera', 'RL', 'RLX',\n",
      "       'Roadmaster', 'Rogue Select', 'Rogue', 'Rondo', 'Routan', 'RS 4',\n",
      "       'RS 5', 'RS 6', 'RS 7', 'RSX', 'RX 300', 'RX 330', 'RX 350',\n",
      "       'RX 400h', 'RX 450h', 'RX-7', 'RX-8', 'S-10 Blazer', 'S-10',\n",
      "       'S-15 Jimmy', 'S-15', 'S-Class', 'S2000', 'S3', 'S40', 'S4', 'S5',\n",
      "       'S60 Cross Country', 'S60', 'S6', 'S70', 'S7', 'S80', 'S8', 'S90',\n",
      "       'Safari Cargo', 'Safari', 'Samurai', 'Santa Fe Sport', 'Santa Fe',\n",
      "       'Savana Cargo', 'Savana', 'SC 300', 'SC 400', 'SC 430', 'Scoupe',\n",
      "       'Sebring', 'Sedona', 'Sentra', 'Sephia', 'Sequoia', 'Seville',\n",
      "       'Shadow', 'Shelby GT350', 'Shelby GT500', 'Sidekick', 'Sienna',\n",
      "       'Sierra 1500 Classic', 'Sierra 1500 Hybrid', 'Sierra 1500',\n",
      "       'Sierra 1500HD', 'Sierra C3', 'Sierra Classic 1500', 'Sigma',\n",
      "       'Silhouette', 'Silver Seraph', 'Silverado 1500 Classic',\n",
      "       'Silverado 1500 Hybrid', 'Silverado 1500', 'Sixty Special',\n",
      "       'Skylark', 'SL-Class', 'SLC-Class', 'SLK-Class', 'SLR McLaren',\n",
      "       'SLS AMG GT Final Edition', 'SLS AMG GT', 'SLS AMG', 'SLX',\n",
      "       'Solstice', 'Sonata Hybrid', 'Sonata', 'Sonic', 'Sonoma',\n",
      "       'Sorento', 'Soul EV', 'Soul', 'Spark EV', 'Spark', 'Spectra',\n",
      "       'Spirit', 'Sportage', 'Sportvan', 'Spyder', 'SQ5', 'SRT Viper',\n",
      "       'SRX', 'SS', 'SSR', 'Stanza', 'Stealth', 'Stratus', 'STS-V', 'STS',\n",
      "       'Suburban', 'Sunbird', 'Sundance', 'Sunfire', 'Superamerica',\n",
      "       'Supersports Convertible ISR', 'Supra', 'SVX', 'Swift', 'SX4',\n",
      "       'Syclone', 'T100', 'Tacoma', 'Tahoe Hybrid', 'Tahoe Limited/Z71',\n",
      "       'Tahoe', 'Taurus X', 'Taurus', 'TC', 'tC', 'Tempo', 'Tercel',\n",
      "       'Terrain', 'Terraza', 'Thunderbird', 'Tiburon', 'Tiguan', 'Titan',\n",
      "       'TL', 'TLX', 'Toronado', 'Torrent', 'Touareg 2', 'Touareg',\n",
      "       'Town and Country', 'Town Car', 'Tracker', 'TrailBlazer EXT',\n",
      "       'TrailBlazer', 'Trans Sport', 'Transit Connect', 'Transit Wagon',\n",
      "       'Traverse', 'Trax', 'Tribeca', 'Tribute Hybrid', 'Tribute',\n",
      "       'Truck', 'TSX Sport Wagon', 'TSX', 'TT RS', 'TT', 'TTS', 'Tucson',\n",
      "       'Tundra', 'Typhoon', 'Uplander', 'V12 Vanquish', 'V12 Vantage S',\n",
      "       'V12 Vantage', 'V40', 'V50', 'V60 Cross Country', 'V60', 'V70',\n",
      "       'V8 Vantage', 'V8', 'V90', 'Vanagon', 'Vandura', 'Van', 'Vanquish',\n",
      "       'Vanwagon', 'Veloster', 'Venture', 'Venza', 'Veracruz', 'Verano',\n",
      "       'Verona', 'Versa Note', 'Versa', 'Veyron 16.4', 'Vibe', 'Vigor',\n",
      "       'Viper', 'Virage', 'Vitara', 'Voyager', 'Windstar Cargo',\n",
      "       'Windstar', 'Wraith', 'WRX', 'X-90', 'X1', 'X3', 'X4', 'X5 M',\n",
      "       'X5', 'X6 M', 'X6', 'xA', 'xB', 'XC60', 'XC70', 'XC90', 'XC', 'xD',\n",
      "       'XG300', 'XG350', 'XL-7', 'XL7', 'XLR-V', 'XLR', 'XT5', 'Xterra',\n",
      "       'XTS', 'XT', 'XV Crosstrek', 'Yaris iA', 'Yaris', 'Yukon Denali',\n",
      "       'Yukon Hybrid', 'Yukon XL', 'Yukon', 'Z3', 'Z4 M', 'Z4', 'Z8',\n",
      "       'ZDX', 'Zephyr'], dtype=object)}\n",
      "{'Year': array([2011, 2012, 2013, 1992, 1993, 1994, 2017, 1991, 2016, 1990, 2015,\n",
      "       1996, 1997, 1998, 2014, 1999, 2002, 2003, 2004, 1995, 2007, 2008,\n",
      "       2009, 2001, 2010, 2000, 2005, 2006], dtype=int64)}\n",
      "{'Engine Fuel Type': array(['premium unleaded (required)', 'regular unleaded',\n",
      "       'premium unleaded (recommended)', 'flex-fuel (unleaded/E85)',\n",
      "       'diesel', 'electric',\n",
      "       'flex-fuel (premium unleaded recommended/E85)', 'natural gas',\n",
      "       'flex-fuel (premium unleaded required/E85)',\n",
      "       'flex-fuel (unleaded/natural gas)', nan], dtype=object)}\n",
      "{'Engine HP': array([ 335.,  300.,  230.,  320.,  172.,  160.,  130.,  158.,  240.,\n",
      "        248.,  162.,  217.,  184.,  295.,  115.,  140.,  155.,  114.,\n",
      "        100.,  241.,  180.,  177.,  228.,  121.,  148.,  194.,  218.,\n",
      "        161.,  292.,  250.,  255.,  222.,   82.,  134.,  306.,  400.,\n",
      "        425.,  350.,  332.,  268.,  282.,  275.,  201.,  442.,  562.,\n",
      "        597.,  237.,  270.,  445.,  443.,  302.,  322.,  315.,   nan,\n",
      "        101.,  135.,  485.,  238.,  515.,  543.,  631.,  604.,  620.,\n",
      "        611.,  661.,  157.,  402.,  389.,  110.,  532.,  170.,  165.,\n",
      "        125.,  641.,  535.,  153.,  144.,  188.,  372.,  108.,  168.,\n",
      "        190.,  205.,  200.,  227.,  173.,  220.,  210.,  280.,  207.,\n",
      "        265.,  260.,  290.,  285.,  390.,  225.,  185.,  150.,  430.,\n",
      "        520.,  560.,  475.,  500.,  540.,  370.,  580.,  420.,  345.,\n",
      "        195.,  193.,  208.,  181.,  236.,  186.,  252.,  310.,  333.,\n",
      "        340.,  450.,  281.,  288.,  138.,  137.,  106.,  271.,  196.,\n",
      "        212.,  278.,  189.,  480.,  152.,  600.,  375.,  198.,  182.,\n",
      "        179.,  264.,  503.,  456.,  317.,  235.,  385.,  303.,   63.,\n",
      "        321.,  272.,  464.,  202.,  215.,  283.,  700.,  720.,  750.,\n",
      "        107.,  293.,  119.,  143.,  245.,  120.,  337.,  276.,  330.,\n",
      "        132.,  199.,  530.,  451.,  329.,  469.,  362.,   94.,  553.,\n",
      "        453.,  483.,  323.,  426.,  505.,  455.,  650.,  178.,  242.,\n",
      "        305.,  605.,  440.,  570.,  325.,  175.,  707.,  131.,   62.,\n",
      "         92.,  102.,  127.,  174.,  621.,  510.,  429.,  536.,  355.,\n",
      "        382.,  577.,  113.,  136.,  234.,  552.,  626.,  616.,  572.,\n",
      "        521.,  567.,  582.,  460.,  164.,  192.,  224.,  239.,  404.,\n",
      "        318.,  556.,  640.,  122.,  146.,  244.,  273.,  563.,  141.,\n",
      "        435.,  550.,  360.,  145.,  349.,  166.,  147.,  128.,  197.,\n",
      "        291.,  660.,  261.,  156.,  403.,   95.,  297.,   81.,  257.,\n",
      "        365.,  203.,  231.,  731.,  651.,  287.,  123.,  126.,  416.,\n",
      "        343.,  348.,  328.,  298.,  171.,  219.,  221.,  311.,  361.,\n",
      "        256.,  415.,  274.,  449.,  395.,  401.,  454.,  444.,  338.,\n",
      "        342.,  467.,  545.,  565.,  301.,  263.,   93.,  187.,  610.,\n",
      "         66.,  111.,   98.,  204.,  211.,   73.,  304.,  381.,  142.,\n",
      "         74.,  424.,  253.,   90.,  386.,  359.,  438.,  232.,  383.,\n",
      "        518.,  493.,  259.,  523.,   55.,   79.,  116.,  151.,   78.,\n",
      "        191.,  592.,  632.,  670.,   88.,  167.,  118.,  380.,  214.,\n",
      "        573.,  284.,   99.,  103.,  525.,  254.,  470.,  154.,  176.,\n",
      "        279.,  377.,  251.,  223.,  308.,  105.,  316.,  124.,  526.,\n",
      "        662.,  266.,  296.,  557.,  617.,  583.,  622.,   84.,  163.,\n",
      "        354.,  159.,   96.,  206.,  169.,  133.,  568.,  109., 1001.,\n",
      "        645.,  490.,  624.,  410.,   97.,  394.])}\n",
      "{'Engine Cylinders': array([ 6.,  4.,  5.,  8., 12.,  0., nan, 10.,  3., 16.])}\n",
      "{'Transmission Type': array(['MANUAL', 'AUTOMATIC', 'AUTOMATED_MANUAL', 'DIRECT_DRIVE',\n",
      "       'UNKNOWN'], dtype=object)}\n",
      "{'Driven_Wheels': array(['rear wheel drive', 'front wheel drive', 'all wheel drive',\n",
      "       'four wheel drive'], dtype=object)}\n",
      "{'Number of Doors': array([ 2.,  4.,  3., nan])}\n",
      "{'Market Category': array(['Factory Tuner,Luxury,High-Performance', 'Luxury,Performance',\n",
      "       'Luxury,High-Performance', 'Luxury', 'Performance', 'Flex Fuel',\n",
      "       'Flex Fuel,Performance', nan, 'Hatchback',\n",
      "       'Hatchback,Luxury,Performance', 'Hatchback,Luxury',\n",
      "       'Luxury,High-Performance,Hybrid', 'Diesel,Luxury',\n",
      "       'Hatchback,Performance', 'Hatchback,Factory Tuner,Performance',\n",
      "       'High-Performance', 'Factory Tuner,High-Performance',\n",
      "       'Exotic,High-Performance', 'Exotic,Factory Tuner,High-Performance',\n",
      "       'Factory Tuner,Performance', 'Crossover', 'Exotic,Luxury',\n",
      "       'Exotic,Luxury,High-Performance', 'Exotic,Luxury,Performance',\n",
      "       'Factory Tuner,Luxury,Performance', 'Flex Fuel,Luxury',\n",
      "       'Crossover,Luxury', 'Hatchback,Factory Tuner,Luxury,Performance',\n",
      "       'Crossover,Hatchback', 'Hybrid', 'Luxury,Performance,Hybrid',\n",
      "       'Crossover,Luxury,Performance,Hybrid',\n",
      "       'Crossover,Luxury,Performance',\n",
      "       'Exotic,Factory Tuner,Luxury,High-Performance',\n",
      "       'Flex Fuel,Luxury,High-Performance', 'Crossover,Flex Fuel',\n",
      "       'Diesel', 'Hatchback,Diesel', 'Crossover,Luxury,Diesel',\n",
      "       'Crossover,Luxury,High-Performance',\n",
      "       'Exotic,Flex Fuel,Factory Tuner,Luxury,High-Performance',\n",
      "       'Exotic,Flex Fuel,Luxury,High-Performance',\n",
      "       'Exotic,Factory Tuner,Luxury,Performance', 'Hatchback,Hybrid',\n",
      "       'Crossover,Hybrid', 'Hatchback,Luxury,Hybrid',\n",
      "       'Flex Fuel,Luxury,Performance', 'Crossover,Performance',\n",
      "       'Luxury,Hybrid', 'Crossover,Flex Fuel,Luxury,Performance',\n",
      "       'Crossover,Flex Fuel,Luxury', 'Crossover,Flex Fuel,Performance',\n",
      "       'Hatchback,Factory Tuner,High-Performance', 'Hatchback,Flex Fuel',\n",
      "       'Factory Tuner,Luxury',\n",
      "       'Crossover,Factory Tuner,Luxury,High-Performance',\n",
      "       'Crossover,Factory Tuner,Luxury,Performance',\n",
      "       'Crossover,Hatchback,Factory Tuner,Performance',\n",
      "       'Crossover,Hatchback,Performance', 'Flex Fuel,Hybrid',\n",
      "       'Flex Fuel,Performance,Hybrid',\n",
      "       'Crossover,Exotic,Luxury,High-Performance',\n",
      "       'Crossover,Exotic,Luxury,Performance', 'Exotic,Performance',\n",
      "       'Exotic,Luxury,High-Performance,Hybrid', 'Crossover,Luxury,Hybrid',\n",
      "       'Flex Fuel,Factory Tuner,Luxury,High-Performance',\n",
      "       'Performance,Hybrid', 'Crossover,Factory Tuner,Performance',\n",
      "       'Crossover,Diesel', 'Flex Fuel,Diesel',\n",
      "       'Crossover,Hatchback,Luxury'], dtype=object)}\n",
      "{'Vehicle Size': array(['Compact', 'Midsize', 'Large'], dtype=object)}\n",
      "{'Vehicle Style': array(['Coupe', 'Convertible', 'Sedan', 'Wagon', '4dr Hatchback',\n",
      "       '2dr Hatchback', '4dr SUV', 'Passenger Minivan', 'Cargo Minivan',\n",
      "       'Crew Cab Pickup', 'Regular Cab Pickup', 'Extended Cab Pickup',\n",
      "       '2dr SUV', 'Cargo Van', 'Convertible SUV', 'Passenger Van'],\n",
      "      dtype=object)}\n",
      "{'highway MPG': array([ 26,  28,  27,  25,  24,  20,  21,  22,  35,  34,  31,  30,  32,\n",
      "        33,  23,  36,  29,  45,  43,  40,  42,  19,  18,  17,  15,  37,\n",
      "        39,  41,  16,  14,  38, 108, 103,  12, 354,  47,  46,  82, 110,\n",
      "        44,  13, 105,  99, 102, 111, 106,  48, 101,  90,  97,  94,  98,\n",
      "       100, 107,  53,  50,  74,  92, 109], dtype=int64)}\n",
      "{'city mpg': array([ 19,  20,  18,  17,  16,  26,  23,  22,  21,  24,  15,  25,  29,\n",
      "        28,  32,  31,  30,  14,  10,  27,  12,  13,   9,  11, 122, 121,\n",
      "         8,  50,  49,  47,  35,  33,  40,  85, 128,  42,  43,  36,  44,\n",
      "       126,   7,  34, 132, 110, 137, 129,  39,  41, 124,  37,  88,  94,\n",
      "        86, 101,  95,  89, 102,  98,  92,  97,  91,  53,  55,  51,  54,\n",
      "        58,  78,  38, 120], dtype=int64)}\n",
      "{'Popularity': array([3916, 3105,  819,  617, 1013, 2009,  870,  586,  436, 2774,  113,\n",
      "       2031,  416,   67,  210, 1715,  376,  549, 1439,  535, 2202,   26,\n",
      "        481, 5657, 1624, 1720,  520, 1385, 1851, 1158,   61,  640,  873,\n",
      "          2,  155,  204,   86,  238,  454,  259,  258,  613,  190,  105,\n",
      "         21,  130, 1391,  820], dtype=int64)}\n",
      "{'MSRP': array([46135, 40650, 36350, ..., 46120, 50620, 50920], dtype=int64)}\n"
     ]
    }
   ],
   "source": [
    "for col in df:\n",
    "    print({col : df[col].unique()})"
   ]
  },
  {
   "cell_type": "code",
   "execution_count": 140,
   "id": "9c2c73d4-8c6b-4f70-b499-d637635f9392",
   "metadata": {},
   "outputs": [
    {
     "name": "stdout",
     "output_type": "stream",
     "text": [
      "Check Data Duplicated Pada DataFrame : 715\n"
     ]
    }
   ],
   "source": [
    "print(f\"Check Data Duplicated Pada DataFrame : {df.duplicated().sum()}\")"
   ]
  },
  {
   "cell_type": "code",
   "execution_count": 141,
   "id": "f59a0c7d-8dfd-401a-a422-a677a95ef125",
   "metadata": {},
   "outputs": [
    {
     "name": "stdout",
     "output_type": "stream",
     "text": [
      "Check data Kosong : \n",
      "Make                    0\n",
      "Model                   0\n",
      "Year                    0\n",
      "Engine Fuel Type        3\n",
      "Engine HP              69\n",
      "Engine Cylinders       30\n",
      "Transmission Type       0\n",
      "Driven_Wheels           0\n",
      "Number of Doors         6\n",
      "Market Category      3742\n",
      "Vehicle Size            0\n",
      "Vehicle Style           0\n",
      "highway MPG             0\n",
      "city mpg                0\n",
      "Popularity              0\n",
      "MSRP                    0\n",
      "dtype: int64\n"
     ]
    }
   ],
   "source": [
    "print(f\"Check data Kosong : \\n{df.isna().sum()}\")"
   ]
  },
  {
   "cell_type": "code",
   "execution_count": 142,
   "id": "0804cbe1-77cf-46c0-9ed5-71d09d1e38ef",
   "metadata": {},
   "outputs": [
    {
     "data": {
      "text/plain": [
       "Market Category\n",
       "Crossover                                          1110\n",
       "Flex Fuel                                           872\n",
       "Luxury                                              855\n",
       "Luxury,Performance                                  673\n",
       "Hatchback                                           641\n",
       "                                                   ... \n",
       "Crossover,Exotic,Luxury,Performance                   1\n",
       "Exotic,Luxury,High-Performance,Hybrid                 1\n",
       "Crossover,Exotic,Luxury,High-Performance              1\n",
       "Flex Fuel,Factory Tuner,Luxury,High-Performance       1\n",
       "Performance,Hybrid                                    1\n",
       "Name: count, Length: 71, dtype: int64"
      ]
     },
     "execution_count": 142,
     "metadata": {},
     "output_type": "execute_result"
    }
   ],
   "source": [
    "df['Market Category'].value_counts()"
   ]
  },
  {
   "cell_type": "code",
   "execution_count": 143,
   "id": "e5b34fb9-1697-4bfd-8a41-6d5cd10dc20f",
   "metadata": {},
   "outputs": [
    {
     "name": "stdout",
     "output_type": "stream",
     "text": [
      "Check data Kosong : \n",
      "Make                 0\n",
      "Model                0\n",
      "Year                 0\n",
      "Engine Fuel Type     0\n",
      "Engine HP            0\n",
      "Engine Cylinders     0\n",
      "Transmission Type    0\n",
      "Driven_Wheels        0\n",
      "Number of Doors      0\n",
      "Market Category      0\n",
      "Vehicle Size         0\n",
      "Vehicle Style        0\n",
      "highway MPG          0\n",
      "city mpg             0\n",
      "Popularity           0\n",
      "MSRP                 0\n",
      "dtype: int64\n"
     ]
    }
   ],
   "source": [
    "df.dropna(inplace=True)\n",
    "print(f\"Check data Kosong : \\n{df.isna().sum()}\")"
   ]
  },
  {
   "cell_type": "code",
   "execution_count": 144,
   "id": "234de5f7-8c6a-46af-9c94-c6f80180d12c",
   "metadata": {},
   "outputs": [
    {
     "name": "stdout",
     "output_type": "stream",
     "text": [
      "Check Data Kosong pada DataFrame : 0\n"
     ]
    }
   ],
   "source": [
    "print(f\"Check Data Kosong pada DataFrame : {df.isnull().sum().sum()}\")"
   ]
  },
  {
   "cell_type": "code",
   "execution_count": 145,
   "id": "3d36a818-a067-4805-893b-05365e64410f",
   "metadata": {},
   "outputs": [
    {
     "name": "stdout",
     "output_type": "stream",
     "text": [
      "Check Tipe DataFrame : \n",
      "Make                  object\n",
      "Model                 object\n",
      "Year                   int64\n",
      "Engine Fuel Type      object\n",
      "Engine HP            float64\n",
      "Engine Cylinders     float64\n",
      "Transmission Type     object\n",
      "Driven_Wheels         object\n",
      "Number of Doors      float64\n",
      "Market Category       object\n",
      "Vehicle Size          object\n",
      "Vehicle Style         object\n",
      "highway MPG            int64\n",
      "city mpg               int64\n",
      "Popularity             int64\n",
      "MSRP                   int64\n",
      "dtype: object\n"
     ]
    }
   ],
   "source": [
    "print(f\"Check Tipe DataFrame : \\n{df.dtypes}\")"
   ]
  },
  {
   "cell_type": "code",
   "execution_count": 146,
   "id": "8320aa88-a616-49d4-8b3e-e043f3f76f30",
   "metadata": {},
   "outputs": [],
   "source": [
    "# Menghapu Kolom yang tidak di buthkan\n",
    "df = df.drop(['Engine Fuel Type', 'Market Category', 'Vehicle Style', 'Popularity', \n",
    "              'Number of Doors', 'Vehicle Size', 'Make', 'Model', 'Transmission Type', 'Driven_Wheels'], axis=1)"
   ]
  },
  {
   "cell_type": "code",
   "execution_count": 147,
   "id": "9a1b0416-df8c-4dca-82ee-1999c9dc1f82",
   "metadata": {},
   "outputs": [
    {
     "data": {
      "text/html": [
       "<div>\n",
       "<style scoped>\n",
       "    .dataframe tbody tr th:only-of-type {\n",
       "        vertical-align: middle;\n",
       "    }\n",
       "\n",
       "    .dataframe tbody tr th {\n",
       "        vertical-align: top;\n",
       "    }\n",
       "\n",
       "    .dataframe thead th {\n",
       "        text-align: right;\n",
       "    }\n",
       "</style>\n",
       "<table border=\"1\" class=\"dataframe\">\n",
       "  <thead>\n",
       "    <tr style=\"text-align: right;\">\n",
       "      <th></th>\n",
       "      <th>Year</th>\n",
       "      <th>Engine HP</th>\n",
       "      <th>Engine Cylinders</th>\n",
       "      <th>highway MPG</th>\n",
       "      <th>city mpg</th>\n",
       "      <th>MSRP</th>\n",
       "    </tr>\n",
       "  </thead>\n",
       "  <tbody>\n",
       "    <tr>\n",
       "      <th>0</th>\n",
       "      <td>2011</td>\n",
       "      <td>335.0</td>\n",
       "      <td>6.0</td>\n",
       "      <td>26</td>\n",
       "      <td>19</td>\n",
       "      <td>46135</td>\n",
       "    </tr>\n",
       "    <tr>\n",
       "      <th>1</th>\n",
       "      <td>2011</td>\n",
       "      <td>300.0</td>\n",
       "      <td>6.0</td>\n",
       "      <td>28</td>\n",
       "      <td>19</td>\n",
       "      <td>40650</td>\n",
       "    </tr>\n",
       "    <tr>\n",
       "      <th>2</th>\n",
       "      <td>2011</td>\n",
       "      <td>300.0</td>\n",
       "      <td>6.0</td>\n",
       "      <td>28</td>\n",
       "      <td>20</td>\n",
       "      <td>36350</td>\n",
       "    </tr>\n",
       "    <tr>\n",
       "      <th>3</th>\n",
       "      <td>2011</td>\n",
       "      <td>230.0</td>\n",
       "      <td>6.0</td>\n",
       "      <td>28</td>\n",
       "      <td>18</td>\n",
       "      <td>29450</td>\n",
       "    </tr>\n",
       "    <tr>\n",
       "      <th>4</th>\n",
       "      <td>2011</td>\n",
       "      <td>230.0</td>\n",
       "      <td>6.0</td>\n",
       "      <td>28</td>\n",
       "      <td>18</td>\n",
       "      <td>34500</td>\n",
       "    </tr>\n",
       "    <tr>\n",
       "      <th>...</th>\n",
       "      <td>...</td>\n",
       "      <td>...</td>\n",
       "      <td>...</td>\n",
       "      <td>...</td>\n",
       "      <td>...</td>\n",
       "      <td>...</td>\n",
       "    </tr>\n",
       "    <tr>\n",
       "      <th>11909</th>\n",
       "      <td>2012</td>\n",
       "      <td>300.0</td>\n",
       "      <td>6.0</td>\n",
       "      <td>23</td>\n",
       "      <td>16</td>\n",
       "      <td>46120</td>\n",
       "    </tr>\n",
       "    <tr>\n",
       "      <th>11910</th>\n",
       "      <td>2012</td>\n",
       "      <td>300.0</td>\n",
       "      <td>6.0</td>\n",
       "      <td>23</td>\n",
       "      <td>16</td>\n",
       "      <td>56670</td>\n",
       "    </tr>\n",
       "    <tr>\n",
       "      <th>11911</th>\n",
       "      <td>2012</td>\n",
       "      <td>300.0</td>\n",
       "      <td>6.0</td>\n",
       "      <td>23</td>\n",
       "      <td>16</td>\n",
       "      <td>50620</td>\n",
       "    </tr>\n",
       "    <tr>\n",
       "      <th>11912</th>\n",
       "      <td>2013</td>\n",
       "      <td>300.0</td>\n",
       "      <td>6.0</td>\n",
       "      <td>23</td>\n",
       "      <td>16</td>\n",
       "      <td>50920</td>\n",
       "    </tr>\n",
       "    <tr>\n",
       "      <th>11913</th>\n",
       "      <td>2006</td>\n",
       "      <td>221.0</td>\n",
       "      <td>6.0</td>\n",
       "      <td>26</td>\n",
       "      <td>17</td>\n",
       "      <td>28995</td>\n",
       "    </tr>\n",
       "  </tbody>\n",
       "</table>\n",
       "<p>8084 rows × 6 columns</p>\n",
       "</div>"
      ],
      "text/plain": [
       "       Year  Engine HP  Engine Cylinders  highway MPG  city mpg   MSRP\n",
       "0      2011      335.0               6.0           26        19  46135\n",
       "1      2011      300.0               6.0           28        19  40650\n",
       "2      2011      300.0               6.0           28        20  36350\n",
       "3      2011      230.0               6.0           28        18  29450\n",
       "4      2011      230.0               6.0           28        18  34500\n",
       "...     ...        ...               ...          ...       ...    ...\n",
       "11909  2012      300.0               6.0           23        16  46120\n",
       "11910  2012      300.0               6.0           23        16  56670\n",
       "11911  2012      300.0               6.0           23        16  50620\n",
       "11912  2013      300.0               6.0           23        16  50920\n",
       "11913  2006      221.0               6.0           26        17  28995\n",
       "\n",
       "[8084 rows x 6 columns]"
      ]
     },
     "execution_count": 147,
     "metadata": {},
     "output_type": "execute_result"
    }
   ],
   "source": [
    "df"
   ]
  },
  {
   "cell_type": "code",
   "execution_count": 148,
   "id": "d2baca77-2d2c-4f3b-bf38-1d33272872c7",
   "metadata": {},
   "outputs": [
    {
     "name": "stdout",
     "output_type": "stream",
     "text": [
      "Index(['Year', 'Engine HP', 'Engine Cylinders', 'highway MPG', 'city mpg',\n",
      "       'MSRP'],\n",
      "      dtype='object')\n"
     ]
    }
   ],
   "source": [
    "print(df.columns)"
   ]
  },
  {
   "cell_type": "code",
   "execution_count": 149,
   "id": "a66ef56d-c1ce-49e1-97d4-3f8bb7762bf9",
   "metadata": {},
   "outputs": [],
   "source": [
    "# Merubah nama kolom\n",
    "df = df.rename(columns={'Engine HP' : 'HP', 'Engine Cylinders' : 'Cylinders', 'Transmission Type' : 'Transmission',\n",
    "                       'Driven_Wheels' : 'Drive Mode', 'highway MPG' : 'MPG-H', 'city mpg' : 'MPG-C', 'MSRP' : 'Price'})"
   ]
  },
  {
   "cell_type": "code",
   "execution_count": 150,
   "id": "0e6a2338-b640-43a5-a80a-a8f110be4ac5",
   "metadata": {},
   "outputs": [
    {
     "data": {
      "text/html": [
       "<div>\n",
       "<style scoped>\n",
       "    .dataframe tbody tr th:only-of-type {\n",
       "        vertical-align: middle;\n",
       "    }\n",
       "\n",
       "    .dataframe tbody tr th {\n",
       "        vertical-align: top;\n",
       "    }\n",
       "\n",
       "    .dataframe thead th {\n",
       "        text-align: right;\n",
       "    }\n",
       "</style>\n",
       "<table border=\"1\" class=\"dataframe\">\n",
       "  <thead>\n",
       "    <tr style=\"text-align: right;\">\n",
       "      <th></th>\n",
       "      <th>Year</th>\n",
       "      <th>HP</th>\n",
       "      <th>Cylinders</th>\n",
       "      <th>MPG-H</th>\n",
       "      <th>MPG-C</th>\n",
       "      <th>Price</th>\n",
       "    </tr>\n",
       "  </thead>\n",
       "  <tbody>\n",
       "    <tr>\n",
       "      <th>0</th>\n",
       "      <td>2011</td>\n",
       "      <td>335.0</td>\n",
       "      <td>6.0</td>\n",
       "      <td>26</td>\n",
       "      <td>19</td>\n",
       "      <td>46135</td>\n",
       "    </tr>\n",
       "    <tr>\n",
       "      <th>1</th>\n",
       "      <td>2011</td>\n",
       "      <td>300.0</td>\n",
       "      <td>6.0</td>\n",
       "      <td>28</td>\n",
       "      <td>19</td>\n",
       "      <td>40650</td>\n",
       "    </tr>\n",
       "    <tr>\n",
       "      <th>2</th>\n",
       "      <td>2011</td>\n",
       "      <td>300.0</td>\n",
       "      <td>6.0</td>\n",
       "      <td>28</td>\n",
       "      <td>20</td>\n",
       "      <td>36350</td>\n",
       "    </tr>\n",
       "    <tr>\n",
       "      <th>3</th>\n",
       "      <td>2011</td>\n",
       "      <td>230.0</td>\n",
       "      <td>6.0</td>\n",
       "      <td>28</td>\n",
       "      <td>18</td>\n",
       "      <td>29450</td>\n",
       "    </tr>\n",
       "    <tr>\n",
       "      <th>4</th>\n",
       "      <td>2011</td>\n",
       "      <td>230.0</td>\n",
       "      <td>6.0</td>\n",
       "      <td>28</td>\n",
       "      <td>18</td>\n",
       "      <td>34500</td>\n",
       "    </tr>\n",
       "  </tbody>\n",
       "</table>\n",
       "</div>"
      ],
      "text/plain": [
       "   Year     HP  Cylinders  MPG-H  MPG-C  Price\n",
       "0  2011  335.0        6.0     26     19  46135\n",
       "1  2011  300.0        6.0     28     19  40650\n",
       "2  2011  300.0        6.0     28     20  36350\n",
       "3  2011  230.0        6.0     28     18  29450\n",
       "4  2011  230.0        6.0     28     18  34500"
      ]
     },
     "execution_count": 150,
     "metadata": {},
     "output_type": "execute_result"
    }
   ],
   "source": [
    "df.head()"
   ]
  },
  {
   "cell_type": "code",
   "execution_count": 151,
   "id": "a6aa8c11-74ad-48b4-90e2-b7b2821a09a6",
   "metadata": {},
   "outputs": [
    {
     "data": {
      "text/plain": [
       "Year         8084\n",
       "HP           8084\n",
       "Cylinders    8084\n",
       "MPG-H        8084\n",
       "MPG-C        8084\n",
       "Price        8084\n",
       "dtype: int64"
      ]
     },
     "execution_count": 151,
     "metadata": {},
     "output_type": "execute_result"
    }
   ],
   "source": [
    "# Keseimbangan pada setiap kolom\n",
    "df.count()"
   ]
  },
  {
   "cell_type": "code",
   "execution_count": 152,
   "id": "3407eb58-82ca-4db6-b788-df27511f8bee",
   "metadata": {},
   "outputs": [
    {
     "data": {
      "text/html": [
       "<div>\n",
       "<style scoped>\n",
       "    .dataframe tbody tr th:only-of-type {\n",
       "        vertical-align: middle;\n",
       "    }\n",
       "\n",
       "    .dataframe tbody tr th {\n",
       "        vertical-align: top;\n",
       "    }\n",
       "\n",
       "    .dataframe thead th {\n",
       "        text-align: right;\n",
       "    }\n",
       "</style>\n",
       "<table border=\"1\" class=\"dataframe\">\n",
       "  <thead>\n",
       "    <tr style=\"text-align: right;\">\n",
       "      <th></th>\n",
       "      <th>Year</th>\n",
       "      <th>HP</th>\n",
       "      <th>Cylinders</th>\n",
       "      <th>MPG-H</th>\n",
       "      <th>MPG-C</th>\n",
       "      <th>Price</th>\n",
       "    </tr>\n",
       "  </thead>\n",
       "  <tbody>\n",
       "    <tr>\n",
       "      <th>count</th>\n",
       "      <td>8084.000000</td>\n",
       "      <td>8084.000000</td>\n",
       "      <td>8084.000000</td>\n",
       "      <td>8084.000000</td>\n",
       "      <td>8084.000000</td>\n",
       "      <td>8.084000e+03</td>\n",
       "    </tr>\n",
       "    <tr>\n",
       "      <th>mean</th>\n",
       "      <td>2012.058634</td>\n",
       "      <td>274.642751</td>\n",
       "      <td>5.778080</td>\n",
       "      <td>26.650915</td>\n",
       "      <td>19.553686</td>\n",
       "      <td>5.007267e+04</td>\n",
       "    </tr>\n",
       "    <tr>\n",
       "      <th>std</th>\n",
       "      <td>6.317981</td>\n",
       "      <td>115.003475</td>\n",
       "      <td>1.886088</td>\n",
       "      <td>7.720473</td>\n",
       "      <td>7.159964</td>\n",
       "      <td>7.029313e+04</td>\n",
       "    </tr>\n",
       "    <tr>\n",
       "      <th>min</th>\n",
       "      <td>1990.000000</td>\n",
       "      <td>55.000000</td>\n",
       "      <td>0.000000</td>\n",
       "      <td>12.000000</td>\n",
       "      <td>7.000000</td>\n",
       "      <td>2.000000e+03</td>\n",
       "    </tr>\n",
       "    <tr>\n",
       "      <th>25%</th>\n",
       "      <td>2010.000000</td>\n",
       "      <td>192.000000</td>\n",
       "      <td>4.000000</td>\n",
       "      <td>22.000000</td>\n",
       "      <td>16.000000</td>\n",
       "      <td>2.591875e+04</td>\n",
       "    </tr>\n",
       "    <tr>\n",
       "      <th>50%</th>\n",
       "      <td>2015.000000</td>\n",
       "      <td>264.000000</td>\n",
       "      <td>6.000000</td>\n",
       "      <td>26.000000</td>\n",
       "      <td>18.000000</td>\n",
       "      <td>3.500500e+04</td>\n",
       "    </tr>\n",
       "    <tr>\n",
       "      <th>75%</th>\n",
       "      <td>2016.000000</td>\n",
       "      <td>320.000000</td>\n",
       "      <td>6.000000</td>\n",
       "      <td>30.000000</td>\n",
       "      <td>22.000000</td>\n",
       "      <td>4.872250e+04</td>\n",
       "    </tr>\n",
       "    <tr>\n",
       "      <th>max</th>\n",
       "      <td>2017.000000</td>\n",
       "      <td>1001.000000</td>\n",
       "      <td>16.000000</td>\n",
       "      <td>354.000000</td>\n",
       "      <td>137.000000</td>\n",
       "      <td>2.065902e+06</td>\n",
       "    </tr>\n",
       "  </tbody>\n",
       "</table>\n",
       "</div>"
      ],
      "text/plain": [
       "              Year           HP    Cylinders        MPG-H        MPG-C  \\\n",
       "count  8084.000000  8084.000000  8084.000000  8084.000000  8084.000000   \n",
       "mean   2012.058634   274.642751     5.778080    26.650915    19.553686   \n",
       "std       6.317981   115.003475     1.886088     7.720473     7.159964   \n",
       "min    1990.000000    55.000000     0.000000    12.000000     7.000000   \n",
       "25%    2010.000000   192.000000     4.000000    22.000000    16.000000   \n",
       "50%    2015.000000   264.000000     6.000000    26.000000    18.000000   \n",
       "75%    2016.000000   320.000000     6.000000    30.000000    22.000000   \n",
       "max    2017.000000  1001.000000    16.000000   354.000000   137.000000   \n",
       "\n",
       "              Price  \n",
       "count  8.084000e+03  \n",
       "mean   5.007267e+04  \n",
       "std    7.029313e+04  \n",
       "min    2.000000e+03  \n",
       "25%    2.591875e+04  \n",
       "50%    3.500500e+04  \n",
       "75%    4.872250e+04  \n",
       "max    2.065902e+06  "
      ]
     },
     "execution_count": 152,
     "metadata": {},
     "output_type": "execute_result"
    }
   ],
   "source": [
    "df.describe()"
   ]
  },
  {
   "cell_type": "code",
   "execution_count": 153,
   "id": "b8f3fb71-ecc1-49c5-bcf5-e1dad214b0df",
   "metadata": {},
   "outputs": [
    {
     "data": {
      "text/plain": [
       "<Axes: >"
      ]
     },
     "execution_count": 153,
     "metadata": {},
     "output_type": "execute_result"
    },
    {
     "data": {
      "image/png": "[encoded data removed]",
      "text/plain": [
       "<Figure size 640x480 with 1 Axes>"
      ]
     },
     "metadata": {},
     "output_type": "display_data"
    }
   ],
   "source": [
    "sns.boxplot(df)"
   ]
  },
  {
   "cell_type": "code",
   "execution_count": 154,
   "id": "47b13444-8827-4c4b-84c2-2b6202769f25",
   "metadata": {},
   "outputs": [
    {
     "data": {
      "image/png": "[encoded data removed]",
      "text/plain": [
       "<Figure size 640x480 with 1 Axes>"
      ]
     },
     "metadata": {},
     "output_type": "display_data"
    }
   ],
   "source": [
    "sns.boxplot(x=df['Price'])\n",
    "plt.show()"
   ]
  },
  {
   "cell_type": "code",
   "execution_count": 155,
   "id": "be124505-fe5c-4c13-80e6-b06f9bd0a230",
   "metadata": {},
   "outputs": [
    {
     "data": {
      "image/png": "[encoded data removed]",
      "text/plain": [
       "<Figure size 640x480 with 1 Axes>"
      ]
     },
     "metadata": {},
     "output_type": "display_data"
    }
   ],
   "source": [
    "sns.boxplot(x=df['HP'])\n",
    "plt.show()"
   ]
  },
  {
   "cell_type": "code",
   "execution_count": 156,
   "id": "2fe31777-c113-409b-a19e-9270e32315ab",
   "metadata": {},
   "outputs": [
    {
     "data": {
      "image/png": "[encoded data removed]",
      "text/plain": [
       "<Figure size 640x480 with 1 Axes>"
      ]
     },
     "metadata": {},
     "output_type": "display_data"
    }
   ],
   "source": [
    "sns.boxplot(x=df['Cylinders'])\n",
    "plt.show()"
   ]
  },
  {
   "cell_type": "code",
   "execution_count": 157,
   "id": "2d5dfe67-fd14-448b-ab4f-a4f7c006e620",
   "metadata": {},
   "outputs": [],
   "source": [
    "# # Penangan Outliers\n",
    "# def check_outlier(df, column):\n",
    "#     Q1 = df[column].quantile(0.25)\n",
    "#     Q3 = df[column].quantile(0.75)\n",
    "#     IQR = Q3 - Q1\n",
    "#     print(IQR)\n",
    "#     # # batas bawah dan atas\n",
    "#     # lw = Q1 - 1.5 * IQR\n",
    "#     # hg = Q3 + 1.5 * IQR\n",
    "    "
   ]
  },
  {
   "cell_type": "code",
   "execution_count": 158,
   "id": "517797d2-4018-492f-a888-9eeece13b0c2",
   "metadata": {},
   "outputs": [
    {
     "name": "stdout",
     "output_type": "stream",
     "text": [
      "Year             6.00\n",
      "HP             128.00\n",
      "Cylinders        2.00\n",
      "MPG-H            8.00\n",
      "MPG-C            6.00\n",
      "Price        22803.75\n",
      "dtype: float64\n"
     ]
    }
   ],
   "source": [
    "# Penganan Outlies\n",
    "Q1 = df.quantile(0.25)\n",
    "Q3 = df.quantile(0.75)\n",
    "IQR = Q3 - Q1\n",
    "print(IQR)"
   ]
  },
  {
   "cell_type": "code",
   "execution_count": 159,
   "id": "091bf381-2fcc-4934-bf86-04da30f2f132",
   "metadata": {},
   "outputs": [],
   "source": [
    "# Cara Menghapus Outlier\n",
    "df = df[~((df < (Q1 - 1.5 * IQR)) | (df > (Q3 + 1.5 * IQR))).any(axis=1)]"
   ]
  },
  {
   "cell_type": "code",
   "execution_count": 160,
   "id": "55851846-366c-4859-a790-c7280240d1d7",
   "metadata": {},
   "outputs": [
    {
     "data": {
      "text/plain": [
       "(6294, 6)"
      ]
     },
     "execution_count": 160,
     "metadata": {},
     "output_type": "execute_result"
    }
   ],
   "source": [
    "df.shape"
   ]
  },
  {
   "cell_type": "code",
   "execution_count": 161,
   "id": "f5b90e5f-49e3-48ee-a9d1-fd8a3adf76cc",
   "metadata": {},
   "outputs": [
    {
     "data": {
      "text/plain": [
       "<Axes: >"
      ]
     },
     "execution_count": 161,
     "metadata": {},
     "output_type": "execute_result"
    },
    {
     "data": {
      "image/png": "[encoded data removed]",
      "text/plain": [
       "<Figure size 640x480 with 1 Axes>"
      ]
     },
     "metadata": {},
     "output_type": "display_data"
    }
   ],
   "source": [
    "sns.boxplot(df)"
   ]
  },
  {
   "cell_type": "code",
   "execution_count": 173,
   "id": "f4dee4d4-8b05-4951-9b14-d2a9cdd418b5",
   "metadata": {},
   "outputs": [],
   "source": [
    "#### Erro Male nya nya error"
   ]
  },
  {
   "cell_type": "code",
   "execution_count": 164,
   "id": "46498db3-0b5b-464e-8f46-962f121e9ac0",
   "metadata": {},
   "outputs": [
    {
     "data": {
      "image/png": "[encoded data removed]",
      "text/plain": [
       "<Figure size 1000x500 with 1 Axes>"
      ]
     },
     "metadata": {},
     "output_type": "display_data"
    }
   ],
   "source": [
    "### Visualisasi Histogram\n",
    "# nlargest dia menngembalikan baris nilai pertama dengan nilai yang terbesar\n",
    "df.Year.value_counts().nlargest(40).plot(kind='bar',  figsize=(10,5))\n",
    "plt.title(\"Number of cars by make\")\n",
    "plt.ylabel(\"Number of cars\")\n",
    "plt.xlabel('Make');"
   ]
  },
  {
   "cell_type": "code",
   "execution_count": 167,
   "id": "2c706e89-ee1d-4e58-8dfe-aaaede63695e",
   "metadata": {},
   "outputs": [
    {
     "data": {
      "text/plain": [
       "<Axes: >"
      ]
     },
     "execution_count": 167,
     "metadata": {},
     "output_type": "execute_result"
    },
    {
     "data": {
      "image/png": "[encoded data removed]",
      "text/plain": [
       "<Figure size 640x480 with 2 Axes>"
      ]
     },
     "metadata": {},
     "output_type": "display_data"
    }
   ],
   "source": [
    "# Visualiasasi Heatmap\n",
    "sns.heatmap(df.corr(), annot=True, cmap='viridis')"
   ]
  },
  {
   "cell_type": "code",
   "execution_count": 172,
   "id": "812ce650-b921-4ab3-b9ed-42fcba173b42",
   "metadata": {},
   "outputs": [
    {
     "data": {
      "image/png": "[encoded data removed]",
      "text/plain": [
       "<Figure size 1000x600 with 1 Axes>"
      ]
     },
     "metadata": {},
     "output_type": "display_data"
    }
   ],
   "source": [
    "# Visualisasi ScatterPlot\n",
    "# Untuk mengetahui hubungan antar kolom dengan melihat penyebaran Data nya\n",
    "fig, ax = plt.subplots(figsize=(10, 6))\n",
    "ax.scatter(df['HP'], df['Price'])\n",
    "ax.set_ylabel(\"HP\")\n",
    "ax.set_xlabel(\"Price\")\n",
    "plt.show()"
   ]
  },
  {
   "cell_type": "code",
   "execution_count": null,
   "id": "d1a7e4d7-5380-4772-b593-367c9652a31e",
   "metadata": {},
   "outputs": [],
   "source": []
  }
 ],
 "metadata": {
  "kernelspec": {
   "display_name": "Python 3 (ipykernel)",
   "language": "python",
   "name": "python3"
  },
  "language_info": {
   "codemirror_mode": {
    "name": "ipython",
    "version": 3
   },
   "file_extension": ".py",
   "mimetype": "text/x-python",
   "name": "python",
   "nbconvert_exporter": "python",
   "pygments_lexer": "ipython3",
   "version": "3.11.7"
  }
 },
 "nbformat": 4,
 "nbformat_minor": 5
}
